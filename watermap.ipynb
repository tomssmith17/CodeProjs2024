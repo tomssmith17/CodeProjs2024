{
 "cells": [
  {
   "cell_type": "markdown",
   "metadata": {
    "vscode": {
     "languageId": "html"
    }
   },
   "source": [
    "# Relative Elevation Model: French Broad River\n",
    "\n",
    "##### A REM is a representation of the elevation above river height, which highlights a river's meandering through a landscape.\n",
    "\n",
    "## Step0: Setup"
   ]
  },
  {
   "cell_type": "code",
   "execution_count": 3,
   "metadata": {},
   "outputs": [
    {
     "name": "stderr",
     "output_type": "stream",
     "text": [
      "ERROR: You must give at least one requirement to install (see \"pip help install\")\n"
     ]
    }
   ],
   "source": [
    "#Install packages\n",
    "#!pip install osmnx scipi xarray rioxarray matplotlib datashader -q"
   ]
  },
  {
   "cell_type": "code",
   "execution_count": 1,
   "metadata": {},
   "outputs": [
    {
     "name": "stderr",
     "output_type": "stream",
     "text": [
      "c:\\Users\\thsmi\\miniconda3\\envs\\gisprojs\\Lib\\site-packages\\dask\\dataframe\\_pyarrow_compat.py:23: UserWarning: You are using pyarrow version 11.0.0 which is known to be insecure. See https://www.cve.org/CVERecord?id=CVE-2023-47248 for further details. Please upgrade to pyarrow>=14.0.1 or install pyarrow-hotfix to patch your current version.\n",
      "  warnings.warn(\n"
     ]
    }
   ],
   "source": [
    "#Import packages\n",
    "import numpy as np\n",
    "import pandas as pd\n",
    "import geopandas as gpd  # Vector data handling\n",
    "import osmnx as ox       # Downloading data from OSM\n",
    "\n",
    "from shapely.geometry import box\n",
    "from scipy.spatial import cKDTree as KDTree # For Inverse Distance Weight calculation\n",
    "\n",
    "import xarray as xr    \n",
    "import xrspatial    # Hillshading\n",
    "import rioxarray    # Working with geospatial data in xarray\n",
    "\n",
    "import matplotlib.pyplot as plt\n",
    "from datashader.transfer_functions import shade, stack"
   ]
  },
  {
   "cell_type": "markdown",
   "metadata": {},
   "source": [
    "## Step 1: Download & Load DEM"
   ]
  },
  {
   "cell_type": "markdown",
   "metadata": {},
   "source": [
    "Download your DEM here: https://apps.nationalmap.gov/lidar-explorer/#/\n",
    "\n",
    "The one I am using: https://www.sciencebase.gov/catalog/item/6274abaad34e8d45aa6e200f\n"
   ]
  },
  {
   "cell_type": "code",
   "execution_count": null,
   "metadata": {},
   "outputs": [],
   "source": [
    "#next steps create reop and push code from water and france proj"
   ]
  },
  {
   "cell_type": "code",
   "execution_count": null,
   "metadata": {},
   "outputs": [],
   "source": []
  },
  {
   "cell_type": "code",
   "execution_count": null,
   "metadata": {},
   "outputs": [],
   "source": []
  }
 ],
 "metadata": {
  "kernelspec": {
   "display_name": "gisprojs",
   "language": "python",
   "name": "python3"
  },
  "language_info": {
   "codemirror_mode": {
    "name": "ipython",
    "version": 3
   },
   "file_extension": ".py",
   "mimetype": "text/x-python",
   "name": "python",
   "nbconvert_exporter": "python",
   "pygments_lexer": "ipython3",
   "version": "3.12.2"
  }
 },
 "nbformat": 4,
 "nbformat_minor": 2
}
